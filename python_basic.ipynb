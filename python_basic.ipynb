{
 "cells": [
  {
   "cell_type": "code",
   "execution_count": 1,
   "metadata": {},
   "outputs": [
    {
     "data": {
      "text/plain": [
       "['Niagara Engraved',\n",
       " 'NewJumja',\n",
       " 'Nirmala UI',\n",
       " 'Nirmala UI',\n",
       " 'New Gulim',\n",
       " 'Niagara Solid',\n",
       " 'NanumGothic',\n",
       " 'NanumGothic',\n",
       " 'Nirmala UI',\n",
       " 'NanumGothic',\n",
       " 'NanumGothic']"
      ]
     },
     "execution_count": 1,
     "metadata": {},
     "output_type": "execute_result"
    }
   ],
   "source": [
    "import matplotlib\n",
    "\n",
    "[f.name for f in matplotlib.font_manager.fontManager.ttflist if f.name.startswith(\"N\")]"
   ]
  },
  {
   "cell_type": "code",
   "execution_count": 2,
   "metadata": {},
   "outputs": [
    {
     "data": {
      "text/plain": [
       "1.0"
      ]
     },
     "execution_count": 2,
     "metadata": {},
     "output_type": "execute_result"
    }
   ],
   "source": [
    "1.0"
   ]
  },
  {
   "cell_type": "code",
   "execution_count": 3,
   "metadata": {},
   "outputs": [
    {
     "data": {
      "text/plain": [
       "'%.55f'"
      ]
     },
     "execution_count": 3,
     "metadata": {},
     "output_type": "execute_result"
    }
   ],
   "source": [
    "%precision 55"
   ]
  },
  {
   "cell_type": "code",
   "execution_count": 4,
   "metadata": {},
   "outputs": [
    {
     "name": "stderr",
     "output_type": "stream",
     "text": [
      "UsageError: Line magic function `%.55f` not found.\n"
     ]
    }
   ],
   "source": [
    "%.55f"
   ]
  },
  {
   "cell_type": "code",
   "execution_count": 5,
   "metadata": {},
   "outputs": [
    {
     "data": {
      "text/plain": [
       "1.0000000000000000000000000000000000000000000000000000000"
      ]
     },
     "execution_count": 5,
     "metadata": {},
     "output_type": "execute_result"
    }
   ],
   "source": [
    "1.0"
   ]
  },
  {
   "cell_type": "code",
   "execution_count": 6,
   "metadata": {},
   "outputs": [
    {
     "data": {
      "text/plain": [
       "'%.100f'"
      ]
     },
     "execution_count": 6,
     "metadata": {},
     "output_type": "execute_result"
    }
   ],
   "source": [
    "%precision 100"
   ]
  },
  {
   "cell_type": "code",
   "execution_count": 7,
   "metadata": {},
   "outputs": [
    {
     "data": {
      "text/plain": [
       "1.0000000000000000000000000000000000000000000000000000000000000000000000000000000000000000000000000000"
      ]
     },
     "execution_count": 7,
     "metadata": {},
     "output_type": "execute_result"
    }
   ],
   "source": [
    "1.0"
   ]
  },
  {
   "cell_type": "code",
   "execution_count": 8,
   "metadata": {},
   "outputs": [
    {
     "data": {
      "text/plain": [
       "'%.200f'"
      ]
     },
     "execution_count": 8,
     "metadata": {},
     "output_type": "execute_result"
    }
   ],
   "source": [
    "%precision 200"
   ]
  },
  {
   "cell_type": "code",
   "execution_count": 9,
   "metadata": {},
   "outputs": [
    {
     "data": {
      "text/plain": [
       "1.00000000000000000000000000000000000000000000000000000000000000000000000000000000000000000000000000000000000000000000000000000000000000000000000000000000000000000000000000000000000000000000000000000000"
      ]
     },
     "execution_count": 9,
     "metadata": {},
     "output_type": "execute_result"
    }
   ],
   "source": [
    "1.0"
   ]
  },
  {
   "cell_type": "code",
   "execution_count": 10,
   "metadata": {},
   "outputs": [
    {
     "data": {
      "text/plain": [
       "0.10000000000000000555111512312578270211815834045410156250000000000000000000000000000000000000000000000000000000000000000000000000000000000000000000000000000000000000000000000000000000000000000000000000"
      ]
     },
     "execution_count": 10,
     "metadata": {},
     "output_type": "execute_result"
    }
   ],
   "source": [
    "0.1"
   ]
  },
  {
   "cell_type": "code",
   "execution_count": 11,
   "metadata": {},
   "outputs": [
    {
     "data": {
      "text/plain": [
       "'%r'"
      ]
     },
     "execution_count": 11,
     "metadata": {},
     "output_type": "execute_result"
    }
   ],
   "source": [
    "%precision %r"
   ]
  },
  {
   "cell_type": "code",
   "execution_count": 12,
   "metadata": {},
   "outputs": [
    {
     "data": {
      "text/plain": [
       "0.1"
      ]
     },
     "execution_count": 12,
     "metadata": {},
     "output_type": "execute_result"
    }
   ],
   "source": [
    "0.1"
   ]
  },
  {
   "cell_type": "code",
   "execution_count": 13,
   "metadata": {},
   "outputs": [
    {
     "data": {
      "text/plain": [
       "0.30000000000000004"
      ]
     },
     "execution_count": 13,
     "metadata": {},
     "output_type": "execute_result"
    }
   ],
   "source": [
    "0.1+0.2"
   ]
  },
  {
   "cell_type": "code",
   "execution_count": 15,
   "metadata": {},
   "outputs": [
    {
     "data": {
      "text/plain": [
       "'%.55f'"
      ]
     },
     "execution_count": 15,
     "metadata": {},
     "output_type": "execute_result"
    }
   ],
   "source": [
    "%precision 55"
   ]
  },
  {
   "cell_type": "code",
   "execution_count": 16,
   "metadata": {},
   "outputs": [
    {
     "data": {
      "text/plain": [
       "0.3000000000000000444089209850062616169452667236328125000"
      ]
     },
     "execution_count": 16,
     "metadata": {},
     "output_type": "execute_result"
    }
   ],
   "source": [
    "0.1+0.2"
   ]
  },
  {
   "cell_type": "code",
   "execution_count": 17,
   "metadata": {},
   "outputs": [
    {
     "data": {
      "text/plain": [
       "0.2999999999999999888977697537484345957636833190917968750"
      ]
     },
     "execution_count": 17,
     "metadata": {},
     "output_type": "execute_result"
    }
   ],
   "source": [
    "0.3"
   ]
  },
  {
   "cell_type": "code",
   "execution_count": 18,
   "metadata": {},
   "outputs": [
    {
     "data": {
      "text/plain": [
       "'%r'"
      ]
     },
     "execution_count": 18,
     "metadata": {},
     "output_type": "execute_result"
    }
   ],
   "source": [
    "%precision %r"
   ]
  },
  {
   "cell_type": "code",
   "execution_count": 19,
   "metadata": {},
   "outputs": [
    {
     "data": {
      "text/plain": [
       "False"
      ]
     },
     "execution_count": 19,
     "metadata": {},
     "output_type": "execute_result"
    }
   ],
   "source": [
    "0.1+0.2 == 0.3 # 실수는 오차를 가짐. 항상 round사용."
   ]
  },
  {
   "cell_type": "code",
   "execution_count": 20,
   "metadata": {},
   "outputs": [
    {
     "data": {
      "text/plain": [
       "True"
      ]
     },
     "execution_count": 20,
     "metadata": {},
     "output_type": "execute_result"
    }
   ],
   "source": [
    "round(0.1+0.2,3)==round(0.3,3) #round는 반올림 함."
   ]
  },
  {
   "cell_type": "code",
   "execution_count": 21,
   "metadata": {},
   "outputs": [
    {
     "data": {
      "text/plain": [
       "True"
      ]
     },
     "execution_count": 21,
     "metadata": {},
     "output_type": "execute_result"
    }
   ],
   "source": [
    "int(3.9) == 3 # < 실수 -> 정수 > 변환의 경우, 소숫점 이하 버림."
   ]
  },
  {
   "cell_type": "code",
   "execution_count": 22,
   "metadata": {
    "scrolled": true
   },
   "outputs": [
    {
     "name": "stdout",
     "output_type": "stream",
     "text": [
      "달러($)는 1200원 쯤이다!\n",
      "$$$$$$$$$$$$$$$$$$$$$$$$$$$$$$\n"
     ]
    }
   ],
   "source": [
    "dollar = \"$\"\n",
    "n = 1200\n",
    "print(\"달러(\"+dollar+\")는 \"+str(n)+\"원 쯤이다\",end=\"\") #숫자를 문자열과 더하려면 str()\n",
    "print(\"!\")\n",
    "print(dollar*30)"
   ]
  },
  {
   "cell_type": "code",
   "execution_count": 25,
   "metadata": {},
   "outputs": [
    {
     "name": "stdout",
     "output_type": "stream",
     "text": [
      " \"안녕?\"\n",
      "그가 나에게 인사를 건넸다.\n",
      "'안녕'\n",
      "나는 생각했다.\n",
      "\n"
     ]
    }
   ],
   "source": [
    "print(\"\"\" \"안녕?\"\n",
    "그가 나에게 인사를 건넸다.\n",
    "'안녕'\n",
    "나는 생각했다.\n",
    "\"\"\")"
   ]
  },
  {
   "cell_type": "code",
   "execution_count": 37,
   "metadata": {},
   "outputs": [
    {
     "name": "stdout",
     "output_type": "stream",
     "text": [
      "달러($)는 1200원 쯤이다. 정확히는 1200.26원이다.\n"
     ]
    }
   ],
   "source": [
    "# 문자열 형식화\n",
    "f = 1200.259\n",
    "print(\"달러(%s)는 %d원 쯤이다. 정확히는 %.2f원이다.\" %(dollar, n, f)) # 여러개 넣어야 할 때, %() 소괄호 사용."
   ]
  },
  {
   "cell_type": "code",
   "execution_count": 114,
   "metadata": {},
   "outputs": [
    {
     "name": "stdout",
     "output_type": "stream",
     "text": [
      "특급전사\n",
      "인간의 마지노선\n",
      "쓰레기\n",
      "\n",
      "괜찮음\n",
      "\n",
      "다시 입력해라\n"
     ]
    }
   ],
   "source": [
    "# 중첩 조건문\n",
    "def exam(sex, num):\n",
    "    if sex == \"man\":\n",
    "        if num > 100:\n",
    "            print(\"특급전사\")\n",
    "        elif num > 30: # if가 거짓이고, elif의 조건을 만족할 때\n",
    "            print(\"인간의 마지노선\")\n",
    "        else:\n",
    "            print(\"쓰레기\")\n",
    "    elif sex == \"woman\":\n",
    "        if num > 80:\n",
    "            print(\"특급전사\")\n",
    "        else:\n",
    "            print(\"괜찮음\")\n",
    "    else:\n",
    "        print(\"다시 입력해라\")\n",
    "        \n",
    "exam(\"man\",101)\n",
    "exam(\"man\",50)\n",
    "exam(\"man\",10)\n",
    "print()\n",
    "exam(\"woman\",30)\n",
    "print()\n",
    "exam(\"wm\",100)"
   ]
  },
  {
   "cell_type": "code",
   "execution_count": 46,
   "metadata": {},
   "outputs": [
    {
     "name": "stdout",
     "output_type": "stream",
     "text": [
      "변경 전 전역변수 z = 3\n",
      "f1(3) = 6\n",
      "변경 후 전역변수 z = 6\n"
     ]
    }
   ],
   "source": [
    "# 함수 안에서는 함수 바깥 변수의 값을 변경할 수 없다.\n",
    "# global 키워드 사용 -> 가능\n",
    "\n",
    "z = 3\n",
    "print(\"변경 전 전역변수 z = %d\" %z)\n",
    "def f1(x):\n",
    "    global z\n",
    "    z = x + z\n",
    "    return z\n",
    "\n",
    "print(\"f1(3) = %d\" %f1(3))\n",
    "print(\"변경 후 전역변수 z = %d\" %z)"
   ]
  },
  {
   "cell_type": "code",
   "execution_count": 113,
   "metadata": {},
   "outputs": [
    {
     "name": "stdout",
     "output_type": "stream",
     "text": [
      "*****************\n",
      " ***************\n",
      "  *************\n",
      "   ***********\n",
      "    *********\n",
      "     *******\n",
      "      *****\n",
      "       ***\n",
      "        *\n",
      "       ***\n",
      "      *****\n",
      "     *******\n",
      "    *********\n",
      "   ***********\n",
      "  *************\n",
      " ***************\n",
      "*****************\n"
     ]
    }
   ],
   "source": [
    "n=17\n",
    "\n",
    "for i in range(n):\n",
    "    if i<n//2+1:\n",
    "        for j in range(i): # 1씩 증가하며 \" \"\n",
    "            print(\" \",end=\"\")\n",
    "        for k in range(n-2*i): # 2개씩 감소하며 \"*\"\n",
    "            print(\"*\",end=\"\")\n",
    "        print()\n",
    "     \n",
    "    else: # (i > 절반) 경우\n",
    "        for l in range(n-i-1): # 전체 - i\n",
    "            print(\" \",end=\"\")\n",
    "        for m in range(2*(i-n//2)+1): # 2*(i-절반) +1\n",
    "            print(\"*\",end=\"\")\n",
    "        print()"
   ]
  },
  {
   "cell_type": "code",
   "execution_count": 66,
   "metadata": {
    "scrolled": true
   },
   "outputs": [
    {
     "name": "stdout",
     "output_type": "stream",
     "text": [
      "1 3\n",
      "2 2\n",
      "2 6\n",
      "3 1\n",
      "3 5\n",
      "4 4\n",
      "5 3\n",
      "6 2\n",
      "6 6\n"
     ]
    }
   ],
   "source": [
    "# 중첩 for 반복문\n",
    "# 주사위를 두 번 던져서 나온 숫자들의 합이 4의 배수가 되는 경우\n",
    "\n",
    "for i in range(6):\n",
    "    for j in range(6):\n",
    "        if(((i+1)+(j+1))%4==0):\n",
    "            print(\"%d %d\" %(i+1,j+1))"
   ]
  },
  {
   "cell_type": "code",
   "execution_count": 69,
   "metadata": {},
   "outputs": [
    {
     "name": "stdout",
     "output_type": "stream",
     "text": [
      "1\n",
      "3\n",
      "6\n",
      "10\n",
      "15\n",
      "21\n",
      "28\n",
      "36\n",
      "45\n",
      "55\n"
     ]
    }
   ],
   "source": [
    "# 카운터 변수가 변하는 경우\n",
    "# 1부터 1까지의 합, 1부터 2까지의 합, 1부터 3까지의 합, 이런 식으로 1부터 10까지의 합\n",
    "\n",
    "for i in range(10):\n",
    "    sol = 0\n",
    "    for j in range(i+1):\n",
    "        sol = sol + j + 1\n",
    "    print(sol)"
   ]
  },
  {
   "cell_type": "code",
   "execution_count": 77,
   "metadata": {},
   "outputs": [
    {
     "name": "stdout",
     "output_type": "stream",
     "text": [
      "3.14\n",
      "3.14156\n",
      "\n",
      "201523549\n",
      "3.14\n",
      "A+\n"
     ]
    }
   ],
   "source": [
    "# 리스트(순서), 딕셔너리(무순서, {키:값})\n",
    "# 어떤 자료형이든 가능하다.\n",
    "\n",
    "a = [1, 3.14, \"pi\",[2, 3.14156]] # 리스트\n",
    "d = {0 : 201523549,\"math\": 3.14, \"english\": \"A+\"} # 딕셔너리\n",
    "\n",
    "print(a[1])\n",
    "print(a[3][1])\n",
    "print()\n",
    "\n",
    "print(d[0])\n",
    "print(d[\"math\"])\n",
    "print(d[\"english\"])"
   ]
  },
  {
   "cell_type": "code",
   "execution_count": 104,
   "metadata": {},
   "outputs": [
    {
     "data": {
      "text/plain": [
       "[1, 4, 7, 10, 13]"
      ]
     },
     "execution_count": 104,
     "metadata": {},
     "output_type": "execute_result"
    }
   ],
   "source": [
    "# 리스트 다루기\n",
    "\n",
    "## 수열 생성\n",
    "\n",
    "a = list(range(1,15,3)) # list형변환 --> 명시적으로 리스트로 바꿈\n",
    "a"
   ]
  },
  {
   "cell_type": "code",
   "execution_count": 117,
   "metadata": {
    "scrolled": true
   },
   "outputs": [
    {
     "name": "stdout",
     "output_type": "stream",
     "text": [
      "[1, 4, 7, 10, 13, 15]\n",
      "[1, 4, 7, 10, 13]\n",
      "\n",
      "[4]\n",
      "[1, 4, 7]\n",
      "[1, 4, 7, 10, 13]\n",
      "\n",
      "13\n",
      "[7, 10, 13]\n"
     ]
    },
    {
     "data": {
      "text/plain": [
       "True"
      ]
     },
     "execution_count": 117,
     "metadata": {},
     "output_type": "execute_result"
    }
   ],
   "source": [
    "# 리스트 추가/삭제\n",
    "\n",
    "a.append(15) # append() 매서드(변수에 .(점)으로 명령): 변수에 자료 추가\n",
    "print(a) \n",
    "\n",
    "del a[5]\n",
    "print(a)\n",
    "\n",
    "# 슬라이싱\n",
    "\n",
    "print()\n",
    "print(a[1:2])\n",
    "print(a[0:3]) \n",
    "print(a[0:]) # 전체\n",
    "\n",
    "# 음수 인덱싱: 뒤에서부터 가리킴\n",
    "\n",
    "print()\n",
    "print(a[-1])\n",
    "print(a[-3:]) # -3 이후 전체\n",
    "\n",
    "# 원소 존재 판단\n",
    "\n",
    "7 in a "
   ]
  },
  {
   "cell_type": "code",
   "execution_count": 122,
   "metadata": {},
   "outputs": [
    {
     "name": "stdout",
     "output_type": "stream",
     "text": [
      "86.5\n"
     ]
    },
    {
     "data": {
      "text/plain": [
       "[185, 175, 185, 170, 185, 200, 175, 155, 180, 170]"
      ]
     },
     "execution_count": 122,
     "metadata": {},
     "output_type": "execute_result"
    }
   ],
   "source": [
    "# 반복문에서 리스트의 원소를 뽑을 수 있음\n",
    "# range 명령은 사실 리스트를 만드는 명령\n",
    "\n",
    "a = [90, 85, 95, 80, 90, 100, 85, 75, 85, 80]\n",
    "\n",
    "total = 0\n",
    "for i in a:\n",
    "    total = total+i\n",
    "avg = total/len(a)\n",
    "print(avg)"
   ]
  },
  {
   "cell_type": "code",
   "execution_count": 131,
   "metadata": {},
   "outputs": [
    {
     "name": "stdout",
     "output_type": "stream",
     "text": [
      "[(90, 95), (85, 90), (95, 90), (80, 90), (90, 95), (100, 100), (85, 90), (75, 80), (85, 95), (80, 90)]\n",
      "\n",
      "[185, 175, 185, 170, 185, 200, 175, 155, 180, 170]\n"
     ]
    }
   ],
   "source": [
    "# zip함수\n",
    "\n",
    "s = []\n",
    "a = [90, 85, 95, 80, 90, 100, 85, 75, 85, 80]\n",
    "b = [95, 90, 90, 90, 95, 100, 90, 80, 95, 90]\n",
    "\n",
    "print(list(zip(a,b))) # 리스트 2개 합침. 각 원소의 쌍을 튜플(tuple)로.\n",
    "print()\n",
    "\n",
    "for i, j in zip(a, b): # 리스트 내 튜플에서 원소 직접 뽑음\n",
    "    s.append(i + j) \n",
    "print(s)"
   ]
  },
  {
   "cell_type": "code",
   "execution_count": 151,
   "metadata": {
    "scrolled": true
   },
   "outputs": [
    {
     "name": "stdout",
     "output_type": "stream",
     "text": [
      "i = 0, j = a\n",
      "i = 1, j = b\n",
      "i = 2, j = c\n"
     ]
    }
   ],
   "source": [
    "# enumerate함수\n",
    "\n",
    "for i, j in enumerate([\"a\", \"b\", \"c\"]): # 인덱스 i 자동 생성\n",
    "    print(\"i = %d, j = %s\" % (i, j))\n"
   ]
  },
  {
   "cell_type": "code",
   "execution_count": 153,
   "metadata": {},
   "outputs": [
    {
     "name": "stdout",
     "output_type": "stream",
     "text": [
      "{'a': 10, 'b': 20, 'c': 30}\n",
      "{'a': 10, 'b': 20}\n"
     ]
    },
    {
     "data": {
      "text/plain": [
       "True"
      ]
     },
     "execution_count": 153,
     "metadata": {},
     "output_type": "execute_result"
    }
   ],
   "source": [
    "# 딕셔너리 추가/삭제 \n",
    "\n",
    "x={\"a\":10, \"b\":20} # key --> 딕셔너리 인덱싱 \n",
    "\n",
    "x[\"c\"]=30 # 추가\n",
    "print(x)\n",
    "\n",
    "del x[\"c\"] # 삭제\n",
    "print(x)\n",
    "\n",
    "# 키 존재 판단\n",
    "\n",
    "'a' in x"
   ]
  },
  {
   "cell_type": "code",
   "execution_count": 167,
   "metadata": {},
   "outputs": [
    {
     "name": "stdout",
     "output_type": "stream",
     "text": [
      "a b \n",
      "\n",
      "10 20 \n",
      "\n",
      "('a', 10) a 10\n",
      "('b', 20) b 20\n",
      "\n",
      "a 10\n",
      "b 20\n"
     ]
    }
   ],
   "source": [
    "# 딕셔너리 반복문\n",
    "\n",
    "# 1. 키 반복\n",
    "for i in x.keys(): # 리스트 반환\n",
    "    print(i, end=\" \")\n",
    "print(); print()\n",
    "\n",
    "# 2. 값 반복\n",
    "for j in x.values(): # 리스트 반환\n",
    "    print(j, end=\" \")\n",
    "print(); print()\n",
    "\n",
    "# 3. item 반복\n",
    "for k in x.items(): # 튜플 반환\n",
    "    print(k, end=\" \")\n",
    "    print(k[0], k[1])\n",
    "print()\n",
    "\n",
    "for k,l in x.items():\n",
    "    print(k,l)"
   ]
  },
  {
   "cell_type": "code",
   "execution_count": 11,
   "metadata": {},
   "outputs": [
    {
     "name": "stdout",
     "output_type": "stream",
     "text": [
      "200\n"
     ]
    }
   ],
   "source": [
    "# 객체: 데이터(멤버) + 함수(함수)\n",
    "\n",
    "class Renctangle:\n",
    "    \n",
    "    # self 매개변수 <-- 모든 메서드의 첫번째 매개변수 \n",
    "    #                   객체가 자동 전달 됨(파이썬만의 특징)\n",
    "    \n",
    "    def __init__(self, h, v): # 생성자 (객체 생성 시 자동 호출)\n",
    "        self.h = h # 객체에 변수 생성 & 저장\n",
    "        self.v = v\n",
    "    \n",
    "    def area(self):\n",
    "        return self.h * self.v\n",
    "    \n",
    "r = Renctangle(10, 20)\n",
    "a = r.area() # 객체를 통해 메서드 호출\n",
    "print(a)"
   ]
  },
  {
   "cell_type": "code",
   "execution_count": 41,
   "metadata": {},
   "outputs": [],
   "source": [
    "# 객체: 데이터(멤버) + 함수(함수)\n",
    "\n",
    "# self 매개변수 <-- 모든 메서드의 첫번째 매개변수 \n",
    "#                   객체가 자동 전달 됨(파이썬만의 특징)\n",
    "\n",
    "# 파이썬에는 오버로딩 없음 (동일 메소드 다른 매개변수)\n",
    "\n",
    "class cal:\n",
    "    \n",
    "    name = \"계산기\"                # 클래스 변수는 모든 객체에 공유\n",
    "    \n",
    "    def __init__(self, a, b):      # 생성자 (객체 생성 시 자동 호출)\n",
    "        self.a = a                 # 객체에 변수 생성 & 저장\n",
    "        self.b = b\n",
    "    \n",
    "    def add(self):\n",
    "        result = self.a + self.b\n",
    "        return result\n",
    "    \n",
    "    def sub(self):\n",
    "        result = self.a - self.b\n",
    "        return result\n",
    "    \n",
    "    def div(self):\n",
    "        result = self.a / self.b\n",
    "        return result\n",
    "\n",
    "class pow_cal(cal):                # cal 클래스 상속 (클래스 기능 확장)\n",
    "    \n",
    "    def div(self):                 # 오버라이딩 (동일한 이름으로 메서드 재정의)\n",
    "        if (self.b == 0):\n",
    "            return \"*** 0으로 나눌 수 없습니다 ***\"\n",
    "        else:\n",
    "            result = self.a / self.b\n",
    "            return result\n",
    "    \n",
    "    def pow(self):                 # 기능 확장\n",
    "        result = self.a ** self.b\n",
    "        return result\n",
    "    \n",
    "    "
   ]
  },
  {
   "cell_type": "code",
   "execution_count": 42,
   "metadata": {},
   "outputs": [
    {
     "name": "stdout",
     "output_type": "stream",
     "text": [
      "계산기\n",
      "0.0\n",
      "\n",
      "*** 0으로 나눌 수 없습니다 ***\n",
      "1\n"
     ]
    }
   ],
   "source": [
    "a = cal(0, 4)\n",
    "print(a.name)  # 클래스 변수는 모든 객체에 공유\n",
    "print(a.div()) # 객체를 통해 메서드 호출\n",
    "print()\n",
    "\n",
    "b = pow_cal(4, 0) #  부모클래스의 메서드 대신 오버라이딩한 메서드가 호출\n",
    "print(b.div())\n",
    "print(b.pow())\n",
    "\n"
   ]
  },
  {
   "cell_type": "code",
   "execution_count": 43,
   "metadata": {},
   "outputs": [
    {
     "data": {
      "text/plain": [
       "__main__.cal"
      ]
     },
     "execution_count": 43,
     "metadata": {},
     "output_type": "execute_result"
    }
   ],
   "source": [
    "# 클래스 이름 앞의 __main__은 클래스가 정의된 모듈(파일 이름)\n",
    "# REPL 환경에서 입력하는 코드는 __main__으로 가정\n",
    "\n",
    "type(a)"
   ]
  },
  {
   "cell_type": "code",
   "execution_count": 44,
   "metadata": {},
   "outputs": [],
   "source": [
    "# 인코딩: 문자를 2진 숫자의 열(바이트 열)로 바꾸어 저장\n",
    "# 유니코드: 모든 세계의 각 글자에 숫자를 지정하는 방식 (A를 65에 배당)\n",
    "# 유니코드 인코딩(UTF-8 등): 유니코드 숫자를 저장하는 방식 (65를 2진수로)\n",
    "\n",
    "# 유니코드 -> 바이트열 : 인코드\n",
    "# 바이트열 -> 유니코드 : 디코드\n",
    "\n",
    "# 파이썬에서 문자열의 자료형: 유니코드, 자료형 이름: str"
   ]
  },
  {
   "cell_type": "code",
   "execution_count": 61,
   "metadata": {},
   "outputs": [
    {
     "name": "stdout",
     "output_type": "stream",
     "text": [
      "2020 04 17 18 47 April Friday\n"
     ]
    },
    {
     "data": {
      "text/plain": [
       "datetime.datetime(2016, 4, 16, 16, 5, 32)"
      ]
     },
     "execution_count": 61,
     "metadata": {},
     "output_type": "execute_result"
    }
   ],
   "source": [
    "# 파이썬에서 날짜/시간\n",
    "\n",
    "# datetime 패키지\n",
    "# 클래스: datetime(날짜,시간), date(날짜), time(시간), timedelta(날짜구간)\n",
    "\n",
    "import datetime\n",
    "\n",
    "datetime.datetime.now() # datetime.datetime 클래스 객체\n",
    "print(datetime.datetime.now().strftime(\"%Y %m %d %H %M %B %A\") )# strftime() : 날짜/시간 정보를 문자열로\n",
    "\n",
    "# dateutil 패키지\n",
    "\n",
    "from dateutil.parser import parse\n",
    "\n",
    "# dateutil 패키지의 parse 명령을 쓰면 \n",
    "# 자동으로 형식 문자열을 찾아 datetime.datetime 클래스 객체를 만들어 준다.\n",
    "parse(\"Apr 16, 2016 04:05:32 PM\")\n"
   ]
  },
  {
   "cell_type": "code",
   "execution_count": 64,
   "metadata": {},
   "outputs": [
    {
     "data": {
      "text/plain": [
       "array([0, 1, 2, 3, 4, 5, 6, 7, 8, 9])"
      ]
     },
     "execution_count": 64,
     "metadata": {},
     "output_type": "execute_result"
    }
   ],
   "source": [
    "# NumPy 배열\n",
    "\n",
    "# 배열: 1. 모든 원소가 같은 자료형 2. 원소의 갯수 고정\n",
    "# 배열은 적은 메모리로 빠르게 데이터 처리.\n",
    "\n",
    "import numpy as np\n",
    "\n",
    "ar = np.array(range(10)) # 리스트 넣으면 배열로 변환\n",
    "ar"
   ]
  },
  {
   "cell_type": "code",
   "execution_count": 80,
   "metadata": {},
   "outputs": [
    {
     "data": {
      "text/plain": [
       "numpy.ndarray"
      ]
     },
     "execution_count": 80,
     "metadata": {},
     "output_type": "execute_result"
    }
   ],
   "source": [
    "# ndarrray(N-Dimensional array) 자료형\n",
    "\n",
    "type(ar)"
   ]
  },
  {
   "cell_type": "code",
   "execution_count": 75,
   "metadata": {},
   "outputs": [
    {
     "name": "stdout",
     "output_type": "stream",
     "text": [
      "list: [1, 2, 3, 10, 20, 30]\n",
      "array: [11 22 33]\n"
     ]
    }
   ],
   "source": [
    "# 벡터 연산: 배열의 각 원소에 대한 반복 연산을 하나의 명령어로 처리\n",
    "\n",
    "# 벡터의 덧셈\n",
    "\n",
    "a = [1,2,3]\n",
    "b = [10,20,30]\n",
    "print(\"list:\", a + b)\n",
    "\n",
    "x = np.array(a)\n",
    "y = np.array(b)\n",
    "print(\"array:\", x + y)"
   ]
  },
  {
   "cell_type": "code",
   "execution_count": 6,
   "metadata": {},
   "outputs": [
    {
     "name": "stdout",
     "output_type": "stream",
     "text": [
      "list: [0, 1, 2, 3, 4, 5, 0, 1, 2, 3, 4, 5]\n",
      "array: [ 0  2  4  6  8 10]\n"
     ]
    }
   ],
   "source": [
    "# 벡터의 스칼라곱\n",
    "\n",
    "data = [0,1,2,3,4,5]\n",
    "print(\"list:\", 2 * data)\n",
    "\n",
    "x = np.array(data)\n",
    "print(\"array:\", 2 * x)"
   ]
  },
  {
   "cell_type": "code",
   "execution_count": 95,
   "metadata": {},
   "outputs": [
    {
     "name": "stdout",
     "output_type": "stream",
     "text": [
      "[[0 1 2]\n",
      " [3 4 5]]\n",
      "\n",
      "행: 2\n",
      "열: 3\n",
      "\n",
      "차원: 2\n",
      "크기: (2, 3)\n"
     ]
    }
   ],
   "source": [
    "# 2차원 배열\n",
    "\n",
    "c = np.array([[0,1,2], [3,4,5]]) # 2 X 3 행렬\n",
    "\n",
    "print(c); print()\n",
    "\n",
    "print(\"행:\", len(c))\n",
    "print(\"열:\", len(c[0])); print()\n",
    "\n",
    "print(\"차원:\", c.ndim) # ndim: 배열 속성\n",
    "print(\"크기:\", c.shape)"
   ]
  },
  {
   "cell_type": "code",
   "execution_count": 101,
   "metadata": {},
   "outputs": [
    {
     "name": "stdout",
     "output_type": "stream",
     "text": [
      "[[[ 1  2  3  4]\n",
      "  [ 5  6  7  8]\n",
      "  [ 9 10 11 12]]\n",
      "\n",
      " [[ 1  2  3  4]\n",
      "  [ 5  6  7  8]\n",
      "  [ 9 10 11 12]]]\n",
      "\n",
      "행: 2\n",
      "열: 3\n",
      "깊이: 4\n",
      "\n",
      "차원: 3\n",
      "크기: (2, 3, 4)\n"
     ]
    }
   ],
   "source": [
    "# 3차원 배열\n",
    "\n",
    "d = np.array([[[1,2,3,4],[5,6,7,8],[9,10,11,12]], [[1,2,3,4],[5,6,7,8],[9,10,11,12]]])\n",
    "\n",
    "print(d); print()\n",
    "\n",
    "print(\"행:\", len(d))\n",
    "print(\"열:\", len(d[0]))\n",
    "print(\"깊이:\", len(d[0][0])); print()\n",
    "\n",
    "print(\"차원:\", d.ndim) # ndim: 배열 속성\n",
    "print(\"크기:\", d.shape)"
   ]
  },
  {
   "cell_type": "code",
   "execution_count": 106,
   "metadata": {
    "scrolled": true
   },
   "outputs": [
    {
     "name": "stdout",
     "output_type": "stream",
     "text": [
      "[[0 1 2 3]\n",
      " [4 5 6 7]]\n",
      "\n",
      "[0 1 2 3]\n",
      "\n",
      "[1 5]\n",
      "\n",
      "[[0 1]\n",
      " [4 5]]\n",
      "\n",
      "[5 6 7]\n"
     ]
    }
   ],
   "source": [
    "# 배열 슬라이싱\n",
    "\n",
    "a = np.array([[0,1,2,3], [4,5,6,7]])\n",
    "print(a); print()\n",
    "\n",
    "# 1행\n",
    "print(a[0, :])\n",
    "print()\n",
    "\n",
    "# 2열\n",
    "print(a[:, 1])\n",
    "print()\n",
    "\n",
    "# 2 x 2\n",
    "print(a[:2, :2])\n",
    "print()\n",
    "\n",
    "# 2행의 2번째 열부터 전부\n",
    "print(a[1, 1:])"
   ]
  },
  {
   "cell_type": "code",
   "execution_count": 27,
   "metadata": {
    "scrolled": true
   },
   "outputs": [
    {
     "name": "stdout",
     "output_type": "stream",
     "text": [
      "a % 2 = [0 1 0 1 0 1 0 1 0 1]\n",
      "a[a % 2 == 0] = [0 2 4 6 8]\n",
      "\n",
      "[11 11 11 11 11 11 22 22 22 22 22 33 33 33 33 33]\n",
      "\n",
      "[[ 1  2  3  4]\n",
      " [ 5  6  7  8]\n",
      " [ 9 10 11 12]]\n",
      "\n",
      "[[ 1  4]\n",
      " [ 5  8]\n",
      " [ 9 12]]\n",
      "\n",
      "[[ 1  4]\n",
      " [ 5  8]\n",
      " [ 9 12]]\n",
      "\n",
      "[[ 9 10 11 12]\n",
      " [ 1  2  3  4]\n",
      " [ 5  6  7  8]]\n"
     ]
    }
   ],
   "source": [
    "# 불리안/정수 배열 인덱싱\n",
    "\n",
    "a = np.array([0,1,2,3,4,5,6,7,8,9])\n",
    "\n",
    "# 불리안 배열 인덱싱 (객체의 크기와 같아야 함)\n",
    "\n",
    "print(\"a % 2 =\", a % 2) # 짝수인 원소\n",
    "print(\"a[a % 2 == 0] =\", a[a % 2 == 0])\n",
    "print()\n",
    "\n",
    "# 정수 배열 인덱싱 (객체의 크기와 달라도 됨)\n",
    "\n",
    "a = np.array([11, 22, 33, 44, 55, 66, 77, 88, 99])\n",
    "i = np.array([0, 0, 0, 0, 0, 0, 1, 1, 1, 1, 1, 2, 2, 2, 2, 2])\n",
    "print(a[i]); print()\n",
    "\n",
    "# 다차원 배열 인덱싱\n",
    "a = np.array([[1, 2, 3, 4], [5, 6, 7, 8], [9, 10, 11, 12]])\n",
    "print(a)\n",
    "print()\n",
    "\n",
    "# 전체에서 1, 4 열\n",
    "print(a[:, [True, False, False, True]])\n",
    "print()\n",
    "\n",
    "print(a[:, [0,3]])\n",
    "print()\n",
    "\n",
    "# 3행, 1행, 2행 순으로 행렬 바꾸기\n",
    "print(a[[2, 0, 1], :])"
   ]
  },
  {
   "cell_type": "code",
   "execution_count": 29,
   "metadata": {},
   "outputs": [
    {
     "name": "stdout",
     "output_type": "stream",
     "text": [
      "1.0\n"
     ]
    }
   ],
   "source": [
    "# 배열 자료형: 자료형을 명시하지 않으면 스스로 유추\n",
    "\n",
    "x = np.array([1, 2, 3.0])\n",
    "print(x[0])\n",
    "\n",
    "# 무한대 np.inf\n"
   ]
  },
  {
   "cell_type": "code",
   "execution_count": null,
   "metadata": {},
   "outputs": [],
   "source": []
  }
 ],
 "metadata": {
  "kernelspec": {
   "display_name": "Python 3",
   "language": "python",
   "name": "python3"
  },
  "language_info": {
   "codemirror_mode": {
    "name": "ipython",
    "version": 3
   },
   "file_extension": ".py",
   "mimetype": "text/x-python",
   "name": "python",
   "nbconvert_exporter": "python",
   "pygments_lexer": "ipython3",
   "version": "3.7.6"
  }
 },
 "nbformat": 4,
 "nbformat_minor": 4
}
